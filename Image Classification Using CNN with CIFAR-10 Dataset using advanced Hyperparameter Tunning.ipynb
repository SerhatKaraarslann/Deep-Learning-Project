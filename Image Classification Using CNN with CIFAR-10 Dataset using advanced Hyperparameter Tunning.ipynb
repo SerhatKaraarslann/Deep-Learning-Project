{
 "cells": [
  {
   "cell_type": "code",
   "execution_count": 11,
   "id": "fe88941e",
   "metadata": {},
   "outputs": [],
   "source": [
    "# Step 1 : Importing the necessary libraries\n",
    "\n",
    "import tensorflow as tf  # tf is a powerful tool to build, train and evaluate the NN\n",
    "from tensorflow.keras import datasets, layers, models # Keras, high Level API which makes it easier to build and train the DL Models\n",
    "import matplotlib.pyplot as plt # visualization for the results"
   ]
  },
  {
   "cell_type": "code",
   "execution_count": 12,
   "id": "5e892d66",
   "metadata": {},
   "outputs": [],
   "source": [
    "# Step 2 : Loading and pre-processing the CIFAR-10 dataset\n",
    "(train_images, train_labels),(test_images, test_labels) = datasets.cifar10.load_data()"
   ]
  },
  {
   "cell_type": "code",
   "execution_count": 13,
   "id": "88b1c4ec",
   "metadata": {},
   "outputs": [],
   "source": [
    "# Step 3 : Normalising pixel values to be between 0 and 1\n",
    "train_images = train_images/255.0\n",
    "test_images =  test_images/255.0 "
   ]
  },
  {
   "cell_type": "code",
   "execution_count": 14,
   "id": "1ed6d19e",
   "metadata": {},
   "outputs": [],
   "source": [
    "# Step 4 : Defining the class names for CIFAR-10 images\n",
    "class_name = ['airplane','automobile','bird','cat','deer','dog','frog','horse','ship','truck'] # in CIFAR-10 Datasets there are 10 different classes/labels"
   ]
  },
  {
   "cell_type": "code",
   "execution_count": 15,
   "id": "10cd5565",
   "metadata": {},
   "outputs": [
    {
     "name": "stdout",
     "output_type": "stream",
     "text": [
      "Requirement already satisfied: keras_tuner in ./myenv/lib/python3.12/site-packages (1.4.7)\n",
      "Requirement already satisfied: keras in ./myenv/lib/python3.12/site-packages (from keras_tuner) (3.10.0)\n",
      "Requirement already satisfied: packaging in ./myenv/lib/python3.12/site-packages (from keras_tuner) (25.0)\n",
      "Requirement already satisfied: requests in ./myenv/lib/python3.12/site-packages (from keras_tuner) (2.32.4)\n",
      "Requirement already satisfied: kt-legacy in ./myenv/lib/python3.12/site-packages (from keras_tuner) (1.0.5)\n",
      "Requirement already satisfied: absl-py in ./myenv/lib/python3.12/site-packages (from keras->keras_tuner) (2.3.1)\n",
      "Requirement already satisfied: numpy in ./myenv/lib/python3.12/site-packages (from keras->keras_tuner) (2.1.3)\n",
      "Requirement already satisfied: rich in ./myenv/lib/python3.12/site-packages (from keras->keras_tuner) (14.0.0)\n",
      "Requirement already satisfied: namex in ./myenv/lib/python3.12/site-packages (from keras->keras_tuner) (0.1.0)\n",
      "Requirement already satisfied: h5py in ./myenv/lib/python3.12/site-packages (from keras->keras_tuner) (3.14.0)\n",
      "Requirement already satisfied: optree in ./myenv/lib/python3.12/site-packages (from keras->keras_tuner) (0.16.0)\n",
      "Requirement already satisfied: ml-dtypes in ./myenv/lib/python3.12/site-packages (from keras->keras_tuner) (0.5.1)\n",
      "Requirement already satisfied: charset_normalizer<4,>=2 in ./myenv/lib/python3.12/site-packages (from requests->keras_tuner) (3.4.2)\n",
      "Requirement already satisfied: idna<4,>=2.5 in ./myenv/lib/python3.12/site-packages (from requests->keras_tuner) (3.10)\n",
      "Requirement already satisfied: urllib3<3,>=1.21.1 in ./myenv/lib/python3.12/site-packages (from requests->keras_tuner) (2.5.0)\n",
      "Requirement already satisfied: certifi>=2017.4.17 in ./myenv/lib/python3.12/site-packages (from requests->keras_tuner) (2025.7.14)\n",
      "Requirement already satisfied: typing-extensions>=4.6.0 in ./myenv/lib/python3.12/site-packages (from optree->keras->keras_tuner) (4.14.1)\n",
      "Requirement already satisfied: markdown-it-py>=2.2.0 in ./myenv/lib/python3.12/site-packages (from rich->keras->keras_tuner) (3.0.0)\n",
      "Requirement already satisfied: pygments<3.0.0,>=2.13.0 in ./myenv/lib/python3.12/site-packages (from rich->keras->keras_tuner) (2.19.2)\n",
      "Requirement already satisfied: mdurl~=0.1 in ./myenv/lib/python3.12/site-packages (from markdown-it-py>=2.2.0->rich->keras->keras_tuner) (0.1.2)\n",
      "Note: you may need to restart the kernel to use updated packages.\n"
     ]
    }
   ],
   "source": [
    "# Step 5 : Import the keras_tuner library for hyperparameter tuning\n",
    "%pip install keras_tuner # Install keras_tuner for hyperparameter tuning\n",
    "from keras_tuner.tuners import RandomSearch # Import RandomSearch for hyperparameter tuning"
   ]
  },
  {
   "cell_type": "code",
   "execution_count": 16,
   "id": "318434ec",
   "metadata": {},
   "outputs": [],
   "source": [
    "# Step 6 :Define a function to build the model\n",
    "def build_model(hp):\n",
    "    model = models.Sequential() # Create a sequential model\n",
    "\n",
    "    #Tune the number of Convolutional Lyers(1,2 or 3)\n",
    "    for i in range(hp.Int('conv_layers',1,3)):\n",
    "      if i == 0:\n",
    "         model.add(layers.Conv2D(hp.Int('filters_'+str(i),min_value=32, max_value = 128, step = 16), \n",
    "                                 kernel_size = (3,3),\n",
    "                                 activation = 'relu',\n",
    "                                 input_shape = (32,32,3))) # Add the first convolutional layer with hyperparameter for number of filters\n",
    "      else:\n",
    "        model.add(layers.Conv2D(hp.Int('filters_'+str(i),min_value=32, max_value = 128, step = 16), \n",
    "                                    kernel_size = (3,3),\n",
    "                                    activation = 'relu',\n",
    "                                    padding = 'same ')) # Add subsequent convolutional layers with hyperparameter for number of filters\n",
    "        model.add(layers.MaxPooling2D(pool_size = (2,2))) # Add a max pooling\n",
    "    \n",
    "    model.add(layers.Flatten()) # Flatten the output from the convolutional layers\n",
    "\n",
    "    #Tune the number of Dense Layers(1,2 or 3)\n",
    "    for i in range(hp.Int('dense_layers',1,3)):\n",
    "            model.add(layers.Dense(hp.Int('dense_units_'+str(i),min_value=32, max_value = 128, step = 16), activation = 'relu')) # Add the first dense layer with hyperparameter for number of units\n",
    "    \n",
    "    #Tune the dropout rate\n",
    "    model.add(layers.Dropout(hp.Float('dropout_rate_'+str(i),min_value = 0.0, max_value = 0.5, step = 0.1)))\n",
    "\n",
    "\n",
    "    #The last dense layer with 10 units for 10 classes\n",
    "    model.add(layers.Dense(10, activation = 'softmax')) # Add the output layer with 10 units for 10 classes with softmax activation\n",
    "\n",
    "\n",
    "    #Choose an optimizer and learning rate\n",
    "    optimizer = tf.keras.optimizers.Adam(learning_rate=hp.Choice('learning_rate',values=[1e-2,1e-3,1e-4])) # Add a hyperparameter for learning rate\n",
    "\n",
    "    model.compile(optimizer=optimizer,loss=tf.keras.losses.SparseCategoricalCrossentropy(from_logits=True),metrics=['accuracy']) # Compile the model with Sparse Categorical Crossentropy loss and accuracy metric\n",
    "    return model # Return the compiled model\n"
   ]
  },
  {
   "cell_type": "code",
   "execution_count": 17,
   "id": "2e3f3a0b",
   "metadata": {},
   "outputs": [
    {
     "name": "stdout",
     "output_type": "stream",
     "text": [
      "Reloading Tuner from hyperparameter_tuning/cifar10_tuning/tuner0.json\n"
     ]
    }
   ],
   "source": [
    "# Step 7 : Create a RandomSearch tuner to search for the best hyperparameters\n",
    "tuner = RandomSearch(\n",
    "    build_model, # The function to build the model\n",
    "    objective = 'val_accuracy', # The objective to optimize\n",
    "    max_trials = 10, # The maximum number of trials to run\n",
    "    executions_per_trial = 1, # The number of executions per trial\n",
    "    directory = 'hyperparameter_tuning', # The directory to save the results\n",
    "    project_name = 'cifar10_tuning' # The name of the project\n",
    ")"
   ]
  },
  {
   "cell_type": "code",
   "execution_count": 18,
   "id": "04f1a1e6",
   "metadata": {},
   "outputs": [],
   "source": [
    "# Step 8 : Perform hyperparameter tuning\n",
    "tuner.search(train_images,train_labels,epochs=10, # Train the model for 10 epochs\n",
    "             validation_data=(test_images,test_labels)) # Use the test set for validation during tuning\n"
   ]
  },
  {
   "cell_type": "code",
   "execution_count": 19,
   "id": "4ce603ec",
   "metadata": {},
   "outputs": [],
   "source": [
    "# Step 9 : Get the best Hyperparameters\n",
    "\n",
    "best_hps = tuner.get_best_hyperparameters(num_trials=1)[0] # Get the best hyperparameters from the tuning process"
   ]
  },
  {
   "cell_type": "code",
   "execution_count": 20,
   "id": "472a51d2",
   "metadata": {},
   "outputs": [
    {
     "name": "stderr",
     "output_type": "stream",
     "text": [
      "/home/cakir/Deep_Learning_Project/Deep-Learning-Project/myenv/lib/python3.12/site-packages/keras/src/layers/convolutional/base_conv.py:113: UserWarning: Do not pass an `input_shape`/`input_dim` argument to a layer. When using Sequential models, prefer using an `Input(shape)` object as the first layer in the model instead.\n",
      "  super().__init__(activity_regularizer=activity_regularizer, **kwargs)\n"
     ]
    },
    {
     "name": "stdout",
     "output_type": "stream",
     "text": [
      "Epoch 1/10\n"
     ]
    },
    {
     "name": "stderr",
     "output_type": "stream",
     "text": [
      "/home/cakir/Deep_Learning_Project/Deep-Learning-Project/myenv/lib/python3.12/site-packages/keras/src/backend/tensorflow/nn.py:717: UserWarning: \"`sparse_categorical_crossentropy` received `from_logits=True`, but the `output` argument was produced by a Softmax activation and thus does not represent logits. Was this intended?\n",
      "  output, from_logits = _get_logits(\n"
     ]
    },
    {
     "name": "stdout",
     "output_type": "stream",
     "text": [
      "\u001b[1m1563/1563\u001b[0m \u001b[32m━━━━━━━━━━━━━━━━━━━━\u001b[0m\u001b[37m\u001b[0m \u001b[1m22s\u001b[0m 14ms/step - accuracy: 0.3247 - loss: 1.8429 - val_accuracy: 0.4728 - val_loss: 1.4051\n",
      "Epoch 2/10\n",
      "\u001b[1m1563/1563\u001b[0m \u001b[32m━━━━━━━━━━━━━━━━━━━━\u001b[0m\u001b[37m\u001b[0m \u001b[1m18s\u001b[0m 12ms/step - accuracy: 0.4976 - loss: 1.3616 - val_accuracy: 0.5026 - val_loss: 1.3961\n",
      "Epoch 3/10\n",
      "\u001b[1m1563/1563\u001b[0m \u001b[32m━━━━━━━━━━━━━━━━━━━━\u001b[0m\u001b[37m\u001b[0m \u001b[1m16s\u001b[0m 10ms/step - accuracy: 0.5435 - loss: 1.2465 - val_accuracy: 0.5353 - val_loss: 1.2851\n",
      "Epoch 4/10\n",
      "\u001b[1m1563/1563\u001b[0m \u001b[32m━━━━━━━━━━━━━━━━━━━━\u001b[0m\u001b[37m\u001b[0m \u001b[1m19s\u001b[0m 12ms/step - accuracy: 0.5691 - loss: 1.1685 - val_accuracy: 0.5409 - val_loss: 1.2874\n",
      "Epoch 5/10\n",
      "\u001b[1m1563/1563\u001b[0m \u001b[32m━━━━━━━━━━━━━━━━━━━━\u001b[0m\u001b[37m\u001b[0m \u001b[1m18s\u001b[0m 11ms/step - accuracy: 0.5970 - loss: 1.1020 - val_accuracy: 0.5646 - val_loss: 1.2286\n",
      "Epoch 6/10\n",
      "\u001b[1m1563/1563\u001b[0m \u001b[32m━━━━━━━━━━━━━━━━━━━━\u001b[0m\u001b[37m\u001b[0m \u001b[1m17s\u001b[0m 11ms/step - accuracy: 0.6239 - loss: 1.0342 - val_accuracy: 0.5701 - val_loss: 1.2298\n",
      "Epoch 7/10\n",
      "\u001b[1m1563/1563\u001b[0m \u001b[32m━━━━━━━━━━━━━━━━━━━━\u001b[0m\u001b[37m\u001b[0m \u001b[1m17s\u001b[0m 11ms/step - accuracy: 0.6486 - loss: 0.9789 - val_accuracy: 0.5733 - val_loss: 1.1992\n",
      "Epoch 8/10\n",
      "\u001b[1m1563/1563\u001b[0m \u001b[32m━━━━━━━━━━━━━━━━━━━━\u001b[0m\u001b[37m\u001b[0m \u001b[1m18s\u001b[0m 11ms/step - accuracy: 0.6642 - loss: 0.9287 - val_accuracy: 0.5799 - val_loss: 1.2208\n",
      "Epoch 9/10\n",
      "\u001b[1m1563/1563\u001b[0m \u001b[32m━━━━━━━━━━━━━━━━━━━━\u001b[0m\u001b[37m\u001b[0m \u001b[1m17s\u001b[0m 11ms/step - accuracy: 0.6859 - loss: 0.8764 - val_accuracy: 0.5774 - val_loss: 1.2494\n",
      "Epoch 10/10\n",
      "\u001b[1m1563/1563\u001b[0m \u001b[32m━━━━━━━━━━━━━━━━━━━━\u001b[0m\u001b[37m\u001b[0m \u001b[1m18s\u001b[0m 11ms/step - accuracy: 0.7074 - loss: 0.8177 - val_accuracy: 0.5743 - val_loss: 1.2739\n"
     ]
    }
   ],
   "source": [
    "# Step 10 : Build the model with the best hyperparameters\n",
    "model = tuner.hypermodel.build(best_hps)\n",
    "history = model.fit(train_images, train_labels, epochs=10, # Train the model for 10 epochs\n",
    "                    validation_data=(test_images, test_labels)) # Use the test set for validation during training"
   ]
  },
  {
   "cell_type": "code",
   "execution_count": 21,
   "id": "a0d6ae66",
   "metadata": {},
   "outputs": [
    {
     "data": {
      "image/png": "[encoded data removed]",
      "text/plain": [
       "<Figure size 1200x400 with 2 Axes>"
      ]
     },
     "metadata": {},
     "output_type": "display_data"
    }
   ],
   "source": [
    "# Step 11 : Plotting the training and validation accuracy and loss values\n",
    "plt.figure(figsize=(12,4)) # Create a figure with a specified size\n",
    "\n",
    "plt.subplot(1,2,1) # Create a subplot for accuracy\n",
    "plt.plot(history.history['accuracy'],label = 'accuracy') # Plot training accuracy\n",
    "plt.plot(history.history['val_accuracy'],label = 'val_accuracy') # Plot validation accuracy\n",
    "plt.xlabel('Epochs') # Set x-axis label\n",
    "plt.ylabel('Accuracy') # Set y-axis label\n",
    "plt.ylim([0,1]) # Set y-axis limits\n",
    "plt.legend(loc = 'lower right') # Add legend to the plot\n",
    "plt.title('Training and Validation Accuracy') # Set title for the accuracy plot\n",
    "plt.grid() # Add grid lines to the accuracy plot\n",
    "\n",
    "plt.subplot(1,2,2) # Create a subplot for loss\n",
    "plt.plot(history.history['loss'],label = 'loss') # Plot training loss\n",
    "plt.plot(history.history['val_loss'],label = 'val_loss') # Plot validation loss\n",
    "plt.xlabel('Epochs') # Set x-axis label\n",
    "plt.ylabel('Loss') # Set y-axis label\n",
    "plt.ylim([0,1]) # Set y-axis limits\n",
    "plt.legend(loc = 'upper right') # Add legend to the plot\n",
    "plt.title('Training and Validation Loss') # Set title for the loss plot\n",
    "plt.grid() # Add grid lines to the loss plot\n",
    "\n",
    "plt.show() # Show the plots for accuracy and loss"
   ]
  }
 ],
 "metadata": {
  "kernelspec": {
   "display_name": "myenv",
   "language": "python",
   "name": "python3"
  },
  "language_info": {
   "codemirror_mode": {
    "name": "ipython",
    "version": 3
   },
   "file_extension": ".py",
   "mimetype": "text/x-python",
   "name": "python",
   "nbconvert_exporter": "python",
   "pygments_lexer": "ipython3",
   "version": "3.12.3"
  }
 },
 "nbformat": 4,
 "nbformat_minor": 5
}
